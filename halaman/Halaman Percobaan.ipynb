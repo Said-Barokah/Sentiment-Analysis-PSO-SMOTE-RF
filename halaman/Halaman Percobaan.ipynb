{
 "cells": [
  {
   "cell_type": "code",
   "execution_count": 77,
   "metadata": {},
   "outputs": [
    {
     "name": "stdout",
     "output_type": "stream",
     "text": [
      "ahmad air ambil anak asal ayak badan bagi bak bantu batangbatang bersih bilas budaya camat cerita coba daftar dalam desa desember destinasi dukun empuk erti gali halus hamil hangat hasil hewan hindar hujan ida indonesia istirahat jadi jawa jemur juluk kampung kasur kerikil kering kilometer kisah klinik kompasid kunjung kutip lahir lancar lazim legung lelap leluhur lemas lombang lupa masuk masyarakat meter milik musim nyaman orang panas pantai pasir pegalpegal pegang pegas percaya perempuan perhati pertama pikir rt rw sakit saran satusatunya sehat sejuk sembarang siksa simpan sumber sumenep suryani tarik tawar tayang tepi terapi tidur timur tradisi trauma tua unik wajib warga waris wisata zainuri\n"
     ]
    }
   ],
   "source": [
    "from sklearn.feature_extraction.text import CountVectorizer\n",
    "import pandas as pd\n",
    "\n",
    "# Membuat list teks\n",
    "teks = ['Data teks pertama.', 'Ini adalah data teks kedua.', 'Data teks ketiga.', 'Ini adalah data teks keempat.']\n",
    "\n",
    "# print(df_TF_vector)\n",
    "# Mengubah list teks menjadi dataframe\n",
    "df = pd.DataFrame(teks, columns=['nama_kolom'])\n",
    "# # Membuat objek CountVectorizer\n",
    "count_vectorizer = CountVectorizer()\n",
    "\n",
    "# # Mengubah data teks menjadi vektor fitur numerik\n",
    "# count_matrix = count_vectorizer.fit_transform(df['nama_kolom'])\n",
    "# # count_matrix = count_vectorizer.fit_transform(df_TF_vector)\n",
    "# # print(df['nama_kolom'])\n",
    "# print(count_matrix)\n",
    "\n",
    "# text = count_vectorizer.inverse_transform(count_matrix)\n",
    "# text = [' '.join(row) for row in text]\n",
    "# # Menampilkan vektor fitur numerik\n",
    "# print(count_matrix.toarray())\n",
    "# print(text)\n",
    "\n",
    "from scipy.sparse import csr_matrix\n",
    "df_TF_vector = pd.read_csv('../data/df_TF_vector.csv')\n",
    "sparse_matrix = csr_matrix(df_TF_vector.values)\n",
    "count_vectorizer = CountVectorizer()\n",
    "count_matrix = count_vectorizer.fit(df_TF_vector)\n",
    "text = count_vectorizer.inverse_transform(df_TF_vector)\n",
    "text = [' '.join(row) for row in text]\n",
    "print(text[0])\n",
    "# text = count_vectorizer.inverse_transform(sparse_matrix)\n",
    "# print(sparse_matrix.toarray())\n"
   ]
  },
  {
   "cell_type": "code",
   "execution_count": 2,
   "metadata": {},
   "outputs": [
    {
     "ename": "ModuleNotFoundError",
     "evalue": "No module named 'numpy'",
     "output_type": "error",
     "traceback": [
      "\u001b[1;31m---------------------------------------------------------------------------\u001b[0m",
      "\u001b[1;31mModuleNotFoundError\u001b[0m                       Traceback (most recent call last)",
      "\u001b[1;32md:\\SKRIPSI VINA\\APLIKASI\\app-sentiment-analysis-main\\app-sentiment-analysis-main\\halaman\\Halaman Percobaan.ipynb Cell 2\u001b[0m line \u001b[0;36m1\n\u001b[1;32m----> <a href='vscode-notebook-cell:/d%3A/SKRIPSI%20VINA/APLIKASI/app-sentiment-analysis-main/app-sentiment-analysis-main/halaman/Halaman%20Percobaan.ipynb#W1sZmlsZQ%3D%3D?line=0'>1</a>\u001b[0m \u001b[39mimport\u001b[39;00m \u001b[39mnumpy\u001b[39;00m \u001b[39mas\u001b[39;00m \u001b[39mnp\u001b[39;00m\n\u001b[0;32m      <a href='vscode-notebook-cell:/d%3A/SKRIPSI%20VINA/APLIKASI/app-sentiment-analysis-main/app-sentiment-analysis-main/halaman/Halaman%20Percobaan.ipynb#W1sZmlsZQ%3D%3D?line=1'>2</a>\u001b[0m my_list \u001b[39m=\u001b[39m [\u001b[39mTrue\u001b[39;00m, \u001b[39mFalse\u001b[39;00m, \u001b[39mTrue\u001b[39;00m, \u001b[39mFalse\u001b[39;00m, \u001b[39mTrue\u001b[39;00m]\n\u001b[0;32m      <a href='vscode-notebook-cell:/d%3A/SKRIPSI%20VINA/APLIKASI/app-sentiment-analysis-main/app-sentiment-analysis-main/halaman/Halaman%20Percobaan.ipynb#W1sZmlsZQ%3D%3D?line=2'>3</a>\u001b[0m my_array \u001b[39m=\u001b[39m np\u001b[39m.\u001b[39marray(my_list)\n",
      "\u001b[1;31mModuleNotFoundError\u001b[0m: No module named 'numpy'"
     ]
    }
   ],
   "source": [
    "import numpy as np\n",
    "my_list = [True, False, True, False, True]\n",
    "my_array = np.array(my_list)\n",
    "true_indices = np.where(my_array == True)[0]\n",
    "print(true_indices)"
   ]
  }
 ],
 "metadata": {
  "kernelspec": {
   "display_name": "Python 3",
   "language": "python",
   "name": "python3"
  },
  "language_info": {
   "codemirror_mode": {
    "name": "ipython",
    "version": 3
   },
   "file_extension": ".py",
   "mimetype": "text/x-python",
   "name": "python",
   "nbconvert_exporter": "python",
   "pygments_lexer": "ipython3",
   "version": "3.10.5"
  },
  "orig_nbformat": 4
 },
 "nbformat": 4,
 "nbformat_minor": 2
}
